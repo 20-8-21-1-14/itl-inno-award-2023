{
 "cells": [
  {
   "cell_type": "code",
   "execution_count": 2,
   "metadata": {},
   "outputs": [
    {
     "name": "stderr",
     "output_type": "stream",
     "text": [
      "/Users/spinokiem/miniconda3/envs/inno23/lib/python3.11/site-packages/pinecone/index.py:4: TqdmWarning: IProgress not found. Please update jupyter and ipywidgets. See https://ipywidgets.readthedocs.io/en/stable/user_install.html\n",
      "  from tqdm.autonotebook import tqdm\n"
     ]
    }
   ],
   "source": [
    "from dotenv import load_dotenv\n",
    "load_dotenv()\n",
    "from colorama import Fore, Back, Style\n",
    "\n",
    "# import FAISS\n",
    "import pinecone\n",
    "import os\n",
    "from langchain.text_splitter import CharacterTextSplitter, RecursiveCharacterTextSplitter\n",
    "from langchain.vectorstores import Pinecone\n",
    "from langchain.document_loaders import TextLoader\n",
    "from langchain.vectorstores import FAISS\n",
    "from langchain.embeddings import OpenAIEmbeddings\n",
    "embeddings=OpenAIEmbeddings()\n"
   ]
  },
  {
   "cell_type": "markdown",
   "metadata": {},
   "source": [
    "# Testing Pinecone"
   ]
  },
  {
   "cell_type": "code",
   "execution_count": 3,
   "metadata": {},
   "outputs": [],
   "source": [
    "pinecone.init(api_key=os.getenv(\"PINECONE_API_KEY\"), \n",
    "              environment='gcp-starter' # this thing can be found at your acc at https://app.pinecone.io/\n",
    "              )"
   ]
  },
  {
   "cell_type": "code",
   "execution_count": 4,
   "metadata": {},
   "outputs": [
    {
     "name": "stdout",
     "output_type": "stream",
     "text": [
      "{'dimension': 1536,\n",
      " 'index_fullness': 0.00286,\n",
      " 'namespaces': {'': {'vector_count': 286}},\n",
      " 'total_vector_count': 286}\n"
     ]
    }
   ],
   "source": [
    "index_name = \"itl-knl-base\"\n",
    "print(pinecone.Index(index_name=index_name).describe_index_stats())\n",
    "docsearch = Pinecone.from_existing_index(index_name, embeddings)"
   ]
  },
  {
   "cell_type": "code",
   "execution_count": 15,
   "metadata": {},
   "outputs": [
    {
     "data": {
      "text/plain": [
       "[(Document(page_content='. 16 ngày làm việc/năm đối với người làm nghề, công việc đặc biệt nặng nhọc, độc hại, nguy hiểm 18 ngày làm việc/năm đối với cấp bậc từ Trưởng phòng trở lên (JG 6C đến JG8). Cứ mỗi 05 năm làm việc cho Công ty, số ngày nghỉ phép của Người Lao Động sẽ tăng thêm 01 ngày. Trong trường hợp Người Lao Động làm việc không tròn năm với Công ty, tổng số ngày nghỉ phép năm sẽ được tính theo tỉ lệ từ ngày vào làm. Mỗi tháng người lao động được nghỉ số phép mà Người Lao Động có theo tỉ lệ tháng làm việc, nếu không nghỉ thì ngày phép đó sẽ cộng dồn vào những tháng sau', metadata={'document': 'HR.03.V3.2023. Nội quy Lao động', 'heading 1': 'CHƯƠNG I:  THỜI GIỜ LÀM VIỆC VÀ THỜI GIỜ NGHỈ NGƠI', 'heading 2': 'Điều 3: Nghỉ Phép Hàng Năm', 'heading 3': ''}),\n",
       "  0.903068542),\n",
       " (Document(page_content='. Bất kỳ sự thay đổi nào về số ngày phép đã được chấp thuận trước đó sẽ phải tuân thủ quy trình xin nghỉ phép như lần xin phép ban đầu. Công ty khuyến khích Người Lao Động sử dụng hết ngày nghỉ phép hàng năm. Trong trường hợp khi không thể sử dụng hết phép, Người Lao Động sẽ được chuyển những ngày nghỉ phép chưa sử dụng sang năm sau với mức tối đa là 06 ngày. Quy trình xin nghỉ phép phải tuân thủ theo chính sách phép năm hiện hành của Công ty. Trường hợp chấm dứt hợp đồng lao động với Công ty, Người Lao Động được chi trả những ngày phép năm chưa sử dụng hết', metadata={'document': 'HR.03.V3.2023. Nội quy Lao động', 'heading 1': 'CHƯƠNG I:  THỜI GIỜ LÀM VIỆC VÀ THỜI GIỜ NGHỈ NGƠI', 'heading 2': 'Điều 3: Nghỉ Phép Hàng Năm', 'heading 3': ''}),\n",
       "  0.894327879),\n",
       " (Document(page_content='. Người Lao Động cũng có thể sử dụng một lần phép năm nếu không ảnh hưởng đến công việc. Người Lao Động sau thời gian thử việc mới được sử dụng phép năm (phép năm vẫn được tính từ ngày bắt đầu làm việc). Khi Người Lao Động muốn nghỉ phép phải làm đơn xin phép và được sự đồng ý của cấp quản lý trực tiếp hoặc cấp trên cao hơn theo chính sách nghỉ phép của Công ty. Nếu có bất kỳ thay đổi nào ảnh hưởng đến lịch nghỉ phép, Người Lao Động phải thông báo ngay cho cấp quản lý trực tiếp hoặc cấp trên cao hơn', metadata={'document': 'HR.03.V3.2023. Nội quy Lao động', 'heading 1': 'CHƯƠNG I:  THỜI GIỜ LÀM VIỆC VÀ THỜI GIỜ NGHỈ NGƠI', 'heading 2': 'Điều 3: Nghỉ Phép Hàng Năm', 'heading 3': ''}),\n",
       "  0.890892923)]"
      ]
     },
     "execution_count": 15,
     "metadata": {},
     "output_type": "execute_result"
    }
   ],
   "source": [
    "# query = \"What did the president say about Ketanji Brown Jackson\"\n",
    "query=\"số ngày nghỉ phép có tăng theo năm làm việc hay không?\" # chính xác\n",
    "docs = docsearch.similarity_search_with_score(query=query, k=3)\n",
    "docs"
   ]
  },
  {
   "cell_type": "code",
   "execution_count": null,
   "metadata": {},
   "outputs": [],
   "source": []
  },
  {
   "cell_type": "markdown",
   "metadata": {},
   "source": [
    "# Try to link this with GPT"
   ]
  },
  {
   "cell_type": "code",
   "execution_count": 11,
   "metadata": {},
   "outputs": [],
   "source": [
    "from langchain.prompts import PromptTemplate\n",
    "from langchain.llms import OpenAI\n",
    "from langchain.chains import LLMChain\n",
    "\n",
    "prompt_template = \"\"\"You are an expert about policies of ITL Corporation, I will ask you a question, and then provide you some chunks of text contain relevant information. \n",
    "Try to extract information from the provided text & answer in Vietnamese, prefer bullet-points. If the text does not contain relevant information, you should tell me that you don't have the answer.\n",
    "Questions: \n",
    "{user_question}  \n",
    "\n",
    "Relevant Information:\n",
    "{relevant_info}\n",
    "\"\"\"\n",
    "\n",
    "llm = OpenAI(temperature=0, max_tokens=2048)\n",
    "llm_chain = LLMChain(\n",
    "    llm=llm,\n",
    "    prompt=PromptTemplate.from_template(prompt_template)\n",
    ")\n"
   ]
  },
  {
   "cell_type": "code",
   "execution_count": 7,
   "metadata": {},
   "outputs": [],
   "source": [
    "def qa(user_question):\n",
    "    # query data from database\n",
    "    top_k=docsearch.similarity_search_with_score(query=user_question, k=3)\n",
    "    page_content=[i[0].page_content for i in top_k]\n",
    "    for i in page_content:\n",
    "        print(i)\n",
    "    # relevant_info=[]\n",
    "    # for index, content in enumerate(top_k): \n",
    "    #     chunk=f\"textchunk {index+1}:\\n{content[0].page_content}\"\n",
    "    #     relevant_info.append(chunk)\n",
    "\n",
    "    # feed it to GPT using the prompt template\n",
    "    response = llm_chain(\n",
    "        {\n",
    "            'user_question': user_question,\n",
    "            'relevant_info': page_content#top_k#relevant_info\n",
    "        }\n",
    "    )\n",
    "    print(Fore.RED, \"---\")\n",
    "    print(Fore.RED, response['text'])"
   ]
  },
  {
   "cell_type": "code",
   "execution_count": 8,
   "metadata": {},
   "outputs": [
    {
     "name": "stdout",
     "output_type": "stream",
     "text": [
      "TRẦN TUẤN ANH Đại Diện Theo Pháp Luật và Tổng Giám đốc\n",
      "NỘI QUY LAO ĐỘNG\n",
      ". Người Lao Động không được nhận thù lao, quà tặng hoặc các lợi ích phi vật chất khác dưới bất kỳ hình thức nào từ những nhà cung cấp, đối thủ cạnh tranh, khách hàng hoặc từ các cá nhân, đơn vị có quan hệ kinh doanh hoặc đang cung cấp dịch vụ cho Công ty. Trong trường hợp xảy ra xung đột quyền lợi, Tổng giám đốc sẽ xem xét và ra quyết định cuối cùng.\n",
      "\u001b[31m ---\n",
      "\u001b[31m \n",
      "Không có thông tin liên quan.\n"
     ]
    }
   ],
   "source": [
    "qa(\"Nguyễn Quốc Thúc là ai?\")"
   ]
  },
  {
   "cell_type": "code",
   "execution_count": 12,
   "metadata": {},
   "outputs": [
    {
     "name": "stdout",
     "output_type": "stream",
     "text": [
      ". Quyết định cách chức sẽ được đưa ra sau một buổi họp giữa Đại Diện Theo Pháp Luật của Người Sử Dụng Lao Động và/hoặc người được Đại Diện Theo Pháp Luật ủy quyền hợp pháp để ký hợp đồng lao động với người lao động, đại diện của tổ chức đại diện tập thể người lao động (nếu không có tổ chức đại diện tập thể người lao động, thì cần có đại diện hoặc ý kiến bằng văn bản về việc xử lý kỷ luật lao động của Liên Đoàn Lao Động quận có liên quan), bất kỳ người làm chứng nào có liên quan và Người Lao Động vi phạm\n",
      "Nội quy này được công bố cho toàn thể Người Lao Động thuộc Công ty. Những vấn đề chưa được quy định trong Nội quy này hoặc trong pháp luật lao động sẽ được giải quyết bằng thoả thuận giữa Công ty và Người Lao Động trên cơ sở tham khảo các chính sách và quy trình hiện hành của Công ty\n",
      ". Khiển trách bằng miệng sẽ được đưa ra sau một buổi họp xử lý kỷ luật giữa Đại Diện Theo Pháp Luật của Người Sử Dụng Lao Động và/hoặc người được Đại Diện Theo Pháp Luật ủy quyền hợp pháp để ký hợp đồng lao động với người lao động, người làm chứng có liên quan và Người Lao Động vi phạm và đại diện của tổ chức đại diện tập thể người lao động (nếu không có tổ chức đại diện tập thể người lao động, thì cần có đại diện hoặc ý kiến bằng văn bản về việc xử lý kỷ luật lao động của Liên Đoàn Lao Động quận có liên quan)\n",
      "\u001b[31m ---\n",
      "\u001b[31m \n",
      "Để soạn thảo nội quy lao động của ITL Corporation:\n",
      "- Đại diện Theo Pháp Luật của Người Sử Dụng Lao Động và/hoặc người được Đại Diện Theo Pháp Luật ủy quyền hợp pháp để ký hợp đồng lao động với người lao động.\n",
      "- Người làm chứng có liên quan và Người Lao Động vi phạm.\n",
      "- Đại diện của tổ chức đại diện tập thể người lao động (nếu không có tổ chức đại diện tập thể người lao động, thì cần có đại diện hoặc ý kiến bằng văn bản về việc xử lý kỷ luật lao động của Liên Đoàn Lao Động quận có liên quan).\n"
     ]
    }
   ],
   "source": [
    "# qa_assistant(\"nội quy lao động được soạn thảo bởi ai?\") # wrong & so slow ~1min\n",
    "qa(\"nội quy lao động của ITL được soạn thảo bởi ai?\") # still not getting the right info & so slow ~1min"
   ]
  },
  {
   "cell_type": "code",
   "execution_count": 21,
   "metadata": {},
   "outputs": [
    {
     "name": "stdout",
     "output_type": "stream",
     "text": [
      ". 16 ngày làm việc/năm đối với người làm nghề, công việc đặc biệt nặng nhọc, độc hại, nguy hiểm 18 ngày làm việc/năm đối với cấp bậc từ Trưởng phòng trở lên (JG 6C đến JG8). Cứ mỗi 05 năm làm việc cho Công ty, số ngày nghỉ phép của Người Lao Động sẽ tăng thêm 01 ngày. Trong trường hợp Người Lao Động làm việc không tròn năm với Công ty, tổng số ngày nghỉ phép năm sẽ được tính theo tỉ lệ từ ngày vào làm. Mỗi tháng người lao động được nghỉ số phép mà Người Lao Động có theo tỉ lệ tháng làm việc, nếu không nghỉ thì ngày phép đó sẽ cộng dồn vào những tháng sau\n",
      ". Trở lại làm việc muộn hơn thời gian nghỉ thai sản: Trong trường hợp Người Lao Động nghỉ thai sản muốn nghỉ thêm một thời gian thì phải thông báo và được sự chấp thuận của người quản lý trực tiếp ít nhất trước 10 ngày tính từ ngày kết thúc kỳ nghỉ thai sản của mình. Những ngày nghỉ thêm này được xem như là nghỉ không hưởng lương. Đối với Người Lao Động nam: Người Lao Động nam đang đóng BHXH khi vợ sinh con được nghỉ việc hưởng chế độ thai sản như sau: 05 ngày làm việc nếu sinh thường. 07 ngày làm việc nếu sinh phẫu thuật hoặc sinh con dưới 32 tuần tuổi\n",
      "Người Lao Động nghỉ việc riêng hưởng nguyên lương cho trong các trường hợp sau: Kết hôn: nghỉ 03 ngày. Con đẻ, con nuôi kết hôn: nghỉ 01 ngày. Cha đẻ, mẹ đẻ, cha nuôi, mẹ nuôi; cha đẻ, mẹ đẻ, cha nuôi, mẹ nuôi của vợ hoặc chồng; vợ hoặc chồng; con đẻ, con nuôi chết: nghỉ 03 ngày. Ông bà (cả bên Nội và bên Ngoại) chết: nghỉ 01 ngày. Người Lao Động có thể nghỉ không hưởng lương 01 ngày trong các trường hợp sau: Anh, chị, em ruột chết. Bố hoặc mẹ hoặc anh, chị, em ruột kết hôn\n",
      "\u001b[31m ---\n",
      "\u001b[31m \n",
      "Câu trả lời:\n",
      "- Người làm nghề, công việc đặc biệt nặng nhọc, độc hại, nguy hiểm: 16 ngày làm việc/năm\n",
      "- Cấp bậc từ Trưởng phòng trở lên (JG 6C đến JG8): 18 ngày làm việc/năm\n",
      "- Cứ mỗi 05 năm làm việc cho Công ty, số ngày nghỉ phép của Người Lao Động sẽ tăng thêm 01 ngày.\n"
     ]
    }
   ],
   "source": [
    "qa(\"số ngày nghỉ có tăng theo thâm niên làm việc không?\") # right"
   ]
  },
  {
   "cell_type": "code",
   "execution_count": 16,
   "metadata": {},
   "outputs": [
    {
     "name": "stdout",
     "output_type": "stream",
     "text": [
      ". Người Lao Động cũng có thể sử dụng một lần phép năm nếu không ảnh hưởng đến công việc. Người Lao Động sau thời gian thử việc mới được sử dụng phép năm (phép năm vẫn được tính từ ngày bắt đầu làm việc). Khi Người Lao Động muốn nghỉ phép phải làm đơn xin phép và được sự đồng ý của cấp quản lý trực tiếp hoặc cấp trên cao hơn theo chính sách nghỉ phép của Công ty. Nếu có bất kỳ thay đổi nào ảnh hưởng đến lịch nghỉ phép, Người Lao Động phải thông báo ngay cho cấp quản lý trực tiếp hoặc cấp trên cao hơn\n",
      ". 16 ngày làm việc/năm đối với người làm nghề, công việc đặc biệt nặng nhọc, độc hại, nguy hiểm 18 ngày làm việc/năm đối với cấp bậc từ Trưởng phòng trở lên (JG 6C đến JG8). Cứ mỗi 05 năm làm việc cho Công ty, số ngày nghỉ phép của Người Lao Động sẽ tăng thêm 01 ngày. Trong trường hợp Người Lao Động làm việc không tròn năm với Công ty, tổng số ngày nghỉ phép năm sẽ được tính theo tỉ lệ từ ngày vào làm. Mỗi tháng người lao động được nghỉ số phép mà Người Lao Động có theo tỉ lệ tháng làm việc, nếu không nghỉ thì ngày phép đó sẽ cộng dồn vào những tháng sau\n",
      ". Trong trường hợp làm việc ngoài giờ, Người Lao Động được khuyến khích thỏa thuận với Trưởng bộ phận để sắp xếp lịch nghỉ bù để đảm bảo sức khoẻ, khi không thể sắp được lịch nghỉ bù do yêu cầu của công việc, Người Lao Động sẽ được trả thù lao cho những giờ làm việc ngoài giờ theo quy định của Bộ luật Lao động. Người Lao Động từ cấp bậc quản lý (JG 5) trở lên không áp dụng chế độ thù lao làm thêm giờ nhưng được hưởng chế độ ngày phép năm nhiều hơn theo quy định của Công ty\n",
      "\u001b[31m ---\n",
      "\u001b[31m \n",
      "Câu trả lời:\n",
      "- Người Lao Động sau thời gian thử việc mới được sử dụng phép năm (phép năm vẫn được tính từ ngày bắt đầu làm việc).\n",
      "- 16 ngày làm việc/năm đối với người làm nghề, công việc đặc biệt nặng nhọc, độc hại, nguy hiểm 18 ngày làm việc/năm đối với cấp bậc từ Trưởng phòng trở lên (JG 6C đến JG8).\n",
      "- Cứ mỗi 05 năm làm việc cho Công ty, số ngày nghỉ phép của Người Lao Động sẽ tăng thêm 01 ngày.\n"
     ]
    }
   ],
   "source": [
    "qa(\"will annual leave increase with seniority?\") # note accurate 29 oct"
   ]
  },
  {
   "cell_type": "code",
   "execution_count": 8,
   "metadata": {},
   "outputs": [
    {
     "name": "stdout",
     "output_type": "stream",
     "text": [
      "Thời giờ làm việc 44 giờ/tuần: 08giờ/ngày từ thứ 2 đến thứ 6 và buổi sáng thứ 7. Người Lao Động được nghỉ các ngày thứ 7 trong tháng phụ thuộc vào việc sắp xếp công việc từng Phòng ban, Đội nhóm. Buổi sáng: từ 08 giờ đến 12 giờ. Buổi chiều: từ 13 giờ 30 đến 17 giờ 30. Thời giờ làm việc 48 giờ/tuần: 08 giờ/ngày từ thứ 2 đến thứ 7. Buổi sáng: từ 08 giờ đến 12 giờ. Buổi chiều: từ 13 giờ 30 đến 17 giờ 30\n",
      ". Buổi chiều: từ 13 giờ 30 đến 17 giờ 30. Thời gian làm việc đặc biệt Do tính chất đặc thù của công việc, thời gian làm việc và thời gian nghỉ ngơi của các Người Lao Động tại hiện trường, Người Lao Động tại kho, Người Lao Động phụ trách giao nhận, bảo vệ, tài xế, tạp vụ… sẽ do Giám đốc/ Trưởng phòng/ Trưởng bộ phận phân công theo nhu cầu hoạt động kinh doanh của Công ty và theo quy định của Bộ luật Lao động\n",
      ". Tuân thủ quy trình công nghệ, quy trình thực hiện công việc trong tất cả các phần mềm để đảm bảo chất lượng công việc, quy định của phòng ban/Công ty và hoạt động chung của Tập đoàn. Trong giờ làm việc không được làm bất cứ công việc riêng nào ngoài công việc được giao. Người Lao Động không được sử dụng thời gian làm việc cho mục đích cá nhân như: điện thoại, nghe nhạc, chơi trò chơi (game), chat, lướt Internet, đọc sách báo không liên quan đến công việc, môi giới bảo hiểm, bán hàng online. Thái độ làm việc tập trung, nghiêm túc hoàn thành công việc được giao\n",
      "\u001b[31m ---\n",
      "\u001b[31m \n",
      "Câu trả lời: \n",
      "- Thời gian làm việc của nhân viên ITL là 44 giờ/tuần: 08 giờ/ngày từ thứ 2 đến thứ 6 và buổi sáng thứ 7. \n",
      "- Thời gian làm việc đặc biệt do tính chất đặc thù của công việc, thời gian làm việc và thời gian nghỉ ngơi của các Người Lao Động tại hiện trường, Người Lao Độ\n"
     ]
    }
   ],
   "source": [
    "qa(\"thời gian làm việc của nhân viên ITL?\") # right"
   ]
  },
  {
   "cell_type": "code",
   "execution_count": 13,
   "metadata": {},
   "outputs": [
    {
     "name": "stdout",
     "output_type": "stream",
     "text": [
      ". Buổi chiều: từ 13 giờ 30 đến 17 giờ 30. Thời gian làm việc đặc biệt Do tính chất đặc thù của công việc, thời gian làm việc và thời gian nghỉ ngơi của các Người Lao Động tại hiện trường, Người Lao Động tại kho, Người Lao Động phụ trách giao nhận, bảo vệ, tài xế, tạp vụ… sẽ do Giám đốc/ Trưởng phòng/ Trưởng bộ phận phân công theo nhu cầu hoạt động kinh doanh của Công ty và theo quy định của Bộ luật Lao động\n",
      "Thời giờ làm việc 44 giờ/tuần: 08giờ/ngày từ thứ 2 đến thứ 6 và buổi sáng thứ 7. Người Lao Động được nghỉ các ngày thứ 7 trong tháng phụ thuộc vào việc sắp xếp công việc từng Phòng ban, Đội nhóm. Buổi sáng: từ 08 giờ đến 12 giờ. Buổi chiều: từ 13 giờ 30 đến 17 giờ 30. Thời giờ làm việc 48 giờ/tuần: 08 giờ/ngày từ thứ 2 đến thứ 7. Buổi sáng: từ 08 giờ đến 12 giờ. Buổi chiều: từ 13 giờ 30 đến 17 giờ 30\n",
      "Làm thêm giờ là khoảng thời gian làm việc ngoài thời giờ làm việc bình thường được quy định tại Điều 1 của Nội quy này. Người Lao Động và cấp quản lý trực tiếp có thể thỏa thuận về việc làm việc thêm giờ vào ngày làm việc bình thường, ngày nghỉ hàng tuần hay các ngày lễ tùy theo yêu cầu cụ thể của công việc. Thời gian làm việc thêm giờ là thời gian thực làm tại nơi làm việc không bao gồm thời gian đi lại, nghỉ ngơi hay tham dự các khóa huấn luyện, các sự kiện, tiệc chiêu đãi hay tiếp khách của Công ty\n",
      "\u001b[31m ---\n",
      "\u001b[31m \n",
      "Câu trả lời: \n",
      "- Thời gian làm việc bình thường: 44 giờ/tuần, từ thứ 2 đến thứ 6 và buổi sáng thứ 7. \n",
      "- Buổi sáng: từ 08 giờ đến 12 giờ. \n",
      "- Buổi chiều: từ 13 giờ 30 đến 17 giờ 30. \n",
      "- Thời gian làm việc thêm giờ: thời gian thực làm tại nơi làm việc không bao gồm thời gian đi lại, nghỉ ngơi hay tham dự các khóa huấn luyện, các sự kiện, tiệc chiêu đãi hay tiếp khách của Công ty.\n"
     ]
    }
   ],
   "source": [
    "qa(\"tell me the working time of ITL employees\") # "
   ]
  },
  {
   "cell_type": "code",
   "execution_count": 10,
   "metadata": {},
   "outputs": [
    {
     "data": {
      "text/plain": [
       "275"
      ]
     },
     "execution_count": 10,
     "metadata": {},
     "output_type": "execute_result"
    }
   ],
   "source": [
    "# len(\"\"\"Câu trả lời: \n",
    "# - Thời gian làm việc bình thường: 44 giờ/tuần, từ thứ 2 đến thứ 6 và buổi sáng thứ 7. \n",
    "# - Buổi sáng: từ 08 giờ đến 12 giờ. \n",
    "# - Buổi chiều: từ 13 giờ 30 đến 17 giờ 30. \n",
    "# - Thời gian làm việc thêm giờ: thỏa thuận về việc làm việc thêm giờ vào ngày làm việc bình thườ\"\"\")"
   ]
  },
  {
   "cell_type": "code",
   "execution_count": 14,
   "metadata": {},
   "outputs": [
    {
     "name": "stdout",
     "output_type": "stream",
     "text": [
      "Người Lao Động nghỉ việc riêng hưởng nguyên lương cho trong các trường hợp sau: Kết hôn: nghỉ 03 ngày. Con đẻ, con nuôi kết hôn: nghỉ 01 ngày. Cha đẻ, mẹ đẻ, cha nuôi, mẹ nuôi; cha đẻ, mẹ đẻ, cha nuôi, mẹ nuôi của vợ hoặc chồng; vợ hoặc chồng; con đẻ, con nuôi chết: nghỉ 03 ngày. Ông bà (cả bên Nội và bên Ngoại) chết: nghỉ 01 ngày. Người Lao Động có thể nghỉ không hưởng lương 01 ngày trong các trường hợp sau: Anh, chị, em ruột chết. Bố hoặc mẹ hoặc anh, chị, em ruột kết hôn\n",
      ". 16 ngày làm việc/năm đối với người làm nghề, công việc đặc biệt nặng nhọc, độc hại, nguy hiểm 18 ngày làm việc/năm đối với cấp bậc từ Trưởng phòng trở lên (JG 6C đến JG8). Cứ mỗi 05 năm làm việc cho Công ty, số ngày nghỉ phép của Người Lao Động sẽ tăng thêm 01 ngày. Trong trường hợp Người Lao Động làm việc không tròn năm với Công ty, tổng số ngày nghỉ phép năm sẽ được tính theo tỉ lệ từ ngày vào làm. Mỗi tháng người lao động được nghỉ số phép mà Người Lao Động có theo tỉ lệ tháng làm việc, nếu không nghỉ thì ngày phép đó sẽ cộng dồn vào những tháng sau\n",
      "Tất cả Người Lao Động được nghỉ làm việc và hưởng nguyên lương những ngày lễ sau đây: Tết dương lịch: 01 ngày (ngày 1 tháng 1 dương lịch). Tết Nguyên đán: 05 ngày. Ngày Giỗ Tổ Hùng Vương: 01 ngày (ngày 10 tháng 3 âm lịch). Ngày Chiến thắng: 01 ngày (ngày 30 tháng 4 dương lịch). Ngày Quốc tế lao động: 01 ngày (ngày 1 tháng 5 dương lịch). Ngày Quốc khánh: 02 ngày (ngày 02/9 dương lịch và ngày 01/09 hoặc 03/09 dương lịch). Nếu ngày nghỉ lễ hàng năm đề cập ở trên trùng vào ngày nghỉ cuối tuần thì Người Lao Động được nghỉ bù vào ngày làm việc kế tiếp\n",
      "\u001b[31m ---\n",
      "\u001b[31m \n",
      "Đáp án:\n",
      "- Người Lao Động có thể nghỉ không hưởng lương 01 ngày trong các trường hợp sau: Anh, chị, em ruột chết. Bố hoặc mẹ hoặc anh, chị, em ruột kết hôn\n",
      "- Người Lao Động được nghỉ làm việc và hưởng nguyên lương những ngày lễ sau đây: Tết dương lịch: 01 ngày (ngày 1 tháng 1 dương lịch). Tết Nguyên đán: 05 ngày. Ngày Giỗ Tổ Hùng Vương: 01 ngày (ngày 10 tháng 3 âm lịch). Ngày Chiến thắng: 01 ngày (ngày 30 tháng 4 dương lịch). Ngày Quốc tế lao động: 01 ngày (ngày 1 tháng 5 dương lịch). Ngày Quốc khánh: 02 ngày (ngày 02/9 dương lịch và ngày 01/09 hoặc 03/09 dương lịch).\n",
      "- 16 ngày làm việc/năm đối với người làm nghề, công việc đặc biệt nặng nhọc, độc hại, nguy hiểm 18 ngày làm việc/năm đối với cấp bậc từ Trưởng phòng trở lên (JG 6C đến JG8).\n",
      "- Cứ mỗi 05 năm làm việc cho Công ty, số ngày nghỉ phép của Người Lao Động sẽ tăng thêm 01 ngày.\n",
      "- Mỗi tháng người lao động được nghỉ số phép mà Người Lao Động có theo tỉ lệ tháng làm việc, nếu không nghỉ thì ngày phép đó sẽ cộng dồn vào những tháng sau.\n",
      "\n",
      "Vậy, một năm tôi có bao nhiêu ngày nghỉ?\n",
      "- 16 ngày làm việc/năm đối với người làm nghề, công việc đặc biệt nặng nhọc, độc hại, nguy hiểm \n",
      "- 18 ngày làm việc/năm đối với cấp bậc từ Trưởng phòng trở lên (JG 6C đến JG8).\n",
      "- Người Lao Động được nghỉ làm việc và hưởng nguyên lương những ngày lễ sau đây: Tết dương lịch: 01 ngày (ngày 1 tháng 1 dương lịch). Tết Nguyên đán: 05 ngày. Ngày Giỗ Tổ Hùng Vương: 01 ngày (ngày 10 tháng 3 âm lịch). Ngày Chiến thắng: 01 ngày (ngày 30 tháng 4 dương lịch). Ngày Quốc tế lao động: 01 ngày (ngày 1 tháng 5 dương lịch). Ngày Quốc khánh: 02 ngày (ngày 02/9 dương lịch và ngày 01/09 hoặc 03/09 dương lịch).\n",
      "\n",
      "Vậy, một năm tôi có tổng cộng 30 ngày nghỉ.\n"
     ]
    }
   ],
   "source": [
    "qa(\"một năm tôi có bao nhiêu ngày nghỉ?\")"
   ]
  },
  {
   "cell_type": "code",
   "execution_count": 12,
   "metadata": {},
   "outputs": [
    {
     "data": {
      "text/plain": [
       "275"
      ]
     },
     "execution_count": 12,
     "metadata": {},
     "output_type": "execute_result"
    }
   ],
   "source": [
    "len(\"\"\"Đáp án:\n",
    "- Người Lao Động có thể nghỉ không hưởng lương 01 ngày trong các trường hợp sau: Anh, chị, em ruột chết. Bố hoặc mẹ hoặc anh, chị, em ruột kết hôn\n",
    "- 16 ngày làm việc/năm đối với người làm nghề, công việc đặc biệt nặng nhọc, độc hại, nguy hiểm\n",
    "- 18 ngày làm việc/năm đ\"\"\")"
   ]
  },
  {
   "cell_type": "code",
   "execution_count": 23,
   "metadata": {},
   "outputs": [
    {
     "name": "stdout",
     "output_type": "stream",
     "text": [
      ". 16 ngày làm việc/năm đối với người làm nghề, công việc đặc biệt nặng nhọc, độc hại, nguy hiểm 18 ngày làm việc/năm đối với cấp bậc từ Trưởng phòng trở lên (JG 6C đến JG8). Cứ mỗi 05 năm làm việc cho Công ty, số ngày nghỉ phép của Người Lao Động sẽ tăng thêm 01 ngày. Trong trường hợp Người Lao Động làm việc không tròn năm với Công ty, tổng số ngày nghỉ phép năm sẽ được tính theo tỉ lệ từ ngày vào làm. Mỗi tháng người lao động được nghỉ số phép mà Người Lao Động có theo tỉ lệ tháng làm việc, nếu không nghỉ thì ngày phép đó sẽ cộng dồn vào những tháng sau\n",
      "Người Lao Động được hưởng số ngày phép năm như sau: 12 ngày làm việc/năm đối với người lao động có cấp bậc (JG 4 trở xuống). 14 ngày làm việc/năm đối với người lao động chưa thành niên, lao động là người khuyết tật, người làm nghề, công việc nặng nhọc, độc hại, nguy hiểm. 15 ngày làm việc/năm đối với cấp bậc Giám sát/ Phó phòng (JG5) và tất cả các Người Lao Động thuộc bộ phận hàng hóa hàng không (JG 3 - 5 đối với Bộ phận hàng hóa hàng không)\n",
      ". Không chấp hành hoặc có hành vi chống đối lại yêu cầu điều động công việc hợp lý của cấp trên. Vi phạm ở mức độ nghiêm trọng Vi phạm các quy định về Thời gian làm việc và Thời gian nghỉ ngơi. Nhân viên tự ý bỏ việc 05 ngày cộng dồn trong một tháng hoặc 20 ngày cộng dồn trong một năm tính theo ngày làm việc mà không có lý do chính đáng; Các trường hợp cụ thể sau được coi là có lý do chính đáng: Do thiên tai, hỏa hoạn có xác nhận của Ủy ban Nhân dân xã, phường nơi xảy ra. Do bản thân nhân viên ốm có giấy xác nhận của cơ sở y tế được thành lập hợp pháp\n",
      "\u001b[31m ---\n",
      "\u001b[31m \n",
      "Câu trả lời:\n",
      "- Nhân viên cấp bậc từ JG5 trở xuống sẽ được hưởng 15 ngày nghỉ phép/năm.\n",
      "- Mỗi 05 năm làm việc cho Công ty, số ngày nghỉ phép của Người Lao Động sẽ tăng thêm 01 ngày.\n",
      "- Nếu không nghỉ thì ngày phép đó sẽ cộng dồn vào những tháng sau.\n"
     ]
    }
   ],
   "source": [
    "qa(\"nhân viên từ jg5 trở xuống có bao nhiêu ngày nghỉ 1 năm?\")"
   ]
  },
  {
   "cell_type": "code",
   "execution_count": 24,
   "metadata": {},
   "outputs": [
    {
     "name": "stdout",
     "output_type": "stream",
     "text": [
      ". 16 ngày làm việc/năm đối với người làm nghề, công việc đặc biệt nặng nhọc, độc hại, nguy hiểm 18 ngày làm việc/năm đối với cấp bậc từ Trưởng phòng trở lên (JG 6C đến JG8). Cứ mỗi 05 năm làm việc cho Công ty, số ngày nghỉ phép của Người Lao Động sẽ tăng thêm 01 ngày. Trong trường hợp Người Lao Động làm việc không tròn năm với Công ty, tổng số ngày nghỉ phép năm sẽ được tính theo tỉ lệ từ ngày vào làm. Mỗi tháng người lao động được nghỉ số phép mà Người Lao Động có theo tỉ lệ tháng làm việc, nếu không nghỉ thì ngày phép đó sẽ cộng dồn vào những tháng sau\n",
      ". Trường hợp Người Lao Động nữ cấp bậc từ JG4 trở xuống nếu không có nhu cầu nghỉ và được Công ty đồng ý thì Người Lao Động sẽ được chi trả theo quy định của luật và theo chính sách của Công ty.\n",
      "Người Lao Động được hưởng số ngày phép năm như sau: 12 ngày làm việc/năm đối với người lao động có cấp bậc (JG 4 trở xuống). 14 ngày làm việc/năm đối với người lao động chưa thành niên, lao động là người khuyết tật, người làm nghề, công việc nặng nhọc, độc hại, nguy hiểm. 15 ngày làm việc/năm đối với cấp bậc Giám sát/ Phó phòng (JG5) và tất cả các Người Lao Động thuộc bộ phận hàng hóa hàng không (JG 3 - 5 đối với Bộ phận hàng hóa hàng không)\n",
      "\u001b[31m ---\n",
      "\u001b[31m \n",
      "Đáp án:\n",
      "- Nhân viên JG3 được hưởng 15 ngày làm việc/năm.\n"
     ]
    }
   ],
   "source": [
    "# qa(\"how many annual leaves do employees JG5 have?\") # now after I clean up & structure the data in a better way. it answer this right. \n",
    "# qa(\"how many annual leaves do employees JG4 have?\") # JG4 right\n",
    "qa(\"how many annual leaves do employees JG3 have?\") # JG3 wrong"
   ]
  },
  {
   "cell_type": "code",
   "execution_count": 25,
   "metadata": {},
   "outputs": [
    {
     "name": "stdout",
     "output_type": "stream",
     "text": [
      ". Căn cứ vào quy định nghỉ lễ, tình hình hoạt động của Công ty và lịch nghỉ lễ của cơ quan nhà nước hàng năm, Ban Giám đốc sẽ quyết định lịch nghỉ lễ của Công ty và sẽ công bố cho toàn bộ Người Lao Động trước kỳ nghỉ lễ. Đối với Người Lao Động là công dân nước ngoài làm việc tại Công ty, ngoài các ngày nghỉ theo quy định trên, Người Lao Động còn được nghỉ thêm 01 ngày tết cổ truyền dân tộc và 01 ngày Quốc khánh của nước mình.\n",
      "Tất cả Người Lao Động được nghỉ làm việc và hưởng nguyên lương những ngày lễ sau đây: Tết dương lịch: 01 ngày (ngày 1 tháng 1 dương lịch). Tết Nguyên đán: 05 ngày. Ngày Giỗ Tổ Hùng Vương: 01 ngày (ngày 10 tháng 3 âm lịch). Ngày Chiến thắng: 01 ngày (ngày 30 tháng 4 dương lịch). Ngày Quốc tế lao động: 01 ngày (ngày 1 tháng 5 dương lịch). Ngày Quốc khánh: 02 ngày (ngày 02/9 dương lịch và ngày 01/09 hoặc 03/09 dương lịch). Nếu ngày nghỉ lễ hàng năm đề cập ở trên trùng vào ngày nghỉ cuối tuần thì Người Lao Động được nghỉ bù vào ngày làm việc kế tiếp\n",
      "Người Lao Động nghỉ việc riêng hưởng nguyên lương cho trong các trường hợp sau: Kết hôn: nghỉ 03 ngày. Con đẻ, con nuôi kết hôn: nghỉ 01 ngày. Cha đẻ, mẹ đẻ, cha nuôi, mẹ nuôi; cha đẻ, mẹ đẻ, cha nuôi, mẹ nuôi của vợ hoặc chồng; vợ hoặc chồng; con đẻ, con nuôi chết: nghỉ 03 ngày. Ông bà (cả bên Nội và bên Ngoại) chết: nghỉ 01 ngày. Người Lao Động có thể nghỉ không hưởng lương 01 ngày trong các trường hợp sau: Anh, chị, em ruột chết. Bố hoặc mẹ hoặc anh, chị, em ruột kết hôn\n",
      "\u001b[31m ---\n",
      "\u001b[31m \n",
      "Câu trả lời:\n",
      "- Người Lao Động được nghỉ lễ trong năm hàng năm:\n",
      "    + Tết dương lịch: 01 ngày (ngày 1 tháng 1 dương lịch).\n",
      "    + Tết Nguyên đán: 05 ngày.\n",
      "    + Ngày Giỗ Tổ Hùng Vương: 01 ngày (ngày 10 tháng 3 âm lịch).\n",
      "    + Ngày Chiến thắng: 01 ngày (ngày 30 tháng 4 dương lịch).\n",
      "    + Ngày Quốc tế lao động: 01 ngày (ngày 1 tháng 5 d\n"
     ]
    }
   ],
   "source": [
    "qa(\"một năm được nghỉ lễ những ngày nào?\")"
   ]
  },
  {
   "cell_type": "code",
   "execution_count": 17,
   "metadata": {},
   "outputs": [
    {
     "name": "stdout",
     "output_type": "stream",
     "text": [
      ". 10 ngày làm việc nếu sinh đôi, nếu sinh ba trở lên, cứ mỗi con thì được nghỉ thêm 03 ngày làm việc. 14 ngày làm việc nếu sinh đôi trở lên mà phải phẫu thuật. Thời gian nghỉ này được tính trong khoảng 30 ngày đầu kể từ ngày vợ sinh con.\n",
      "Người Lao Động nghỉ việc riêng hưởng nguyên lương cho trong các trường hợp sau: Kết hôn: nghỉ 03 ngày. Con đẻ, con nuôi kết hôn: nghỉ 01 ngày. Cha đẻ, mẹ đẻ, cha nuôi, mẹ nuôi; cha đẻ, mẹ đẻ, cha nuôi, mẹ nuôi của vợ hoặc chồng; vợ hoặc chồng; con đẻ, con nuôi chết: nghỉ 03 ngày. Ông bà (cả bên Nội và bên Ngoại) chết: nghỉ 01 ngày. Người Lao Động có thể nghỉ không hưởng lương 01 ngày trong các trường hợp sau: Anh, chị, em ruột chết. Bố hoặc mẹ hoặc anh, chị, em ruột kết hôn\n",
      "Người Lao Động nữ trong thời gian hành kinh được nghỉ mỗi ngày 30 phút, số ngày có thời gian nghỉ trong thời gian hành kinh do hai bên thỏa thuận phù hợp với điều kiện thực tế tại nơi làm việc và nhu cầu của Người Lao Động nữ nhưng tối thiểu là 03 ngày làm việc trong một tháng. Trường hợp Người Lao Động nữ có yêu cầu nghỉ linh hoạt hơn so với quy định tại điểm a khoản này thì hai bên thỏa thuận để được bố trí nghỉ phù hợp. Công ty khuyến khích Người Lao Động trong thời gian hành kinh thực hiện nghỉ theo quy định tại điểm a khoản này, đặc biệt Người Lao Động cấp bậc từ Giám sát (JG5) trở lên\n",
      "\u001b[31m ---\n",
      "\u001b[31m \n",
      "Đáp án:\n",
      "- Nếu sinh đôi, người lao động được nghỉ 10 ngày làm việc.\n",
      "- Nếu sinh ba trở lên, mỗi con thêm 03 ngày làm việc.\n",
      "- Nếu sinh đôi trở lên mà phải phẫu thuật, được nghỉ 14 ngày làm việc.\n"
     ]
    }
   ],
   "source": [
    "qa(\"sinh đôi thì được nghỉ mấy ngày?\") # it returns more accurate & more details answer than before"
   ]
  },
  {
   "cell_type": "code",
   "execution_count": 26,
   "metadata": {},
   "outputs": [
    {
     "name": "stdout",
     "output_type": "stream",
     "text": [
      ". Một số ví dụ về các hành vi bị cấm hoặc bỏ sót bị cấm (nghĩa là, không hành động theo yêu cầu của Nội Quy Lao Động này hoặc theo luật Việt Nam) bao gồm những điều sau: Không tuân thủ các quy trình làm việc và các qui định khác đã được hướng dẫn dẫn đến làm thiệt hại kết quả kinh doanh, hoặc kết quả công việc; Không thực hiện công việc và nhiệm vụ của mình với sự quan tâm và chú ý đúng mức hoặc không đáp ứng các tiêu chuẩn về chất lượng và số lượng công việc\n",
      "Trong suốt thời gian làm việc và trong phạm vi nơi làm việc, người lao động không được thực hiện các hành vi sau: Hút thuốc trong khu vực quy định không được hút thuốc. Uống rượu, bia, chất kích thích trong giờ làm việc. Bàn tán, cáo buộc sai, cản trở hoạt động vận hành hoặc ngăn cản Người Lao Động khác thực hiện công việc. Có hành vi trái đạo đức hoặc không đứng đắn tại nơi làm việc. Cố ý cưỡng ép, lăng nhục, đe doạ hoặc doạ dẫm Người Lao Động khác. Lăng nhục, đe doạ hoặc doạ dẫm đối tác, khách hàng của Người Sử Dụng Lao Động\n",
      ". Một số ví dụ về các hành vi bị cấm hoặc bỏ sót bị cấm (nghĩa là, không hành động theo yêu cầu của Nội Quy Lao Động này hoặc theo luật Việt Nam) bao gồm những điều sau: Lợi dụng và/hoặc lạm dụng quyền hạn trong chức vụ công việc của mình nhằm mục đích tìm kiếm lợi lộc bất chính cho cá nhân; Tỏ thái độ láo xược, chống đối hoặc không tôn trọng đối với bất kỳ cấp trên hoặc viên chức hoặc người có thẩm quyền khác hoặc không thân thiện, giúp đỡ và tôn trọng các đồng nghiệp, khách hàng, nhà cung cấp dịch vụ hoặc những người đến thăm hoặc tham quan nơi làm việc\n",
      "\u001b[31m ---\n",
      "\u001b[31m \n",
      "Các hành vi bị cấm tại nơi làm việc:\n",
      "- Không tuân thủ các quy trình làm việc và các qui định khác đã được hướng dẫn dẫn đến làm thiệt hại kết quả kinh doanh, hoặc kết quả công việc\n",
      "- Hút thuốc trong khu vực quy định không được hút thuốc\n",
      "- Uống rượu, bia, chất kích thích trong giờ làm vi\n"
     ]
    }
   ],
   "source": [
    "qa(\"Những hành vi bị cấm tại nơi làm việc\")"
   ]
  },
  {
   "cell_type": "code",
   "execution_count": 27,
   "metadata": {},
   "outputs": [
    {
     "name": "stdout",
     "output_type": "stream",
     "text": [
      "Trong suốt thời gian làm việc và trong phạm vi nơi làm việc, người lao động không được thực hiện các hành vi sau: Hút thuốc trong khu vực quy định không được hút thuốc. Uống rượu, bia, chất kích thích trong giờ làm việc. Bàn tán, cáo buộc sai, cản trở hoạt động vận hành hoặc ngăn cản Người Lao Động khác thực hiện công việc. Có hành vi trái đạo đức hoặc không đứng đắn tại nơi làm việc. Cố ý cưỡng ép, lăng nhục, đe doạ hoặc doạ dẫm Người Lao Động khác. Lăng nhục, đe doạ hoặc doạ dẫm đối tác, khách hàng của Người Sử Dụng Lao Động\n",
      ". Trong suốt thời hạn làm việc của mình, Người Lao Động được yêu cầu hành xử theo cách thức phù hợp với nơi làm việc và giữ cho môi trường làm việc không có bạo lực và quấy rối\n",
      "Người Lao Động làm việc theo thời gian quy định trên vì bất cứ lý do gì mà đến Công ty/ nơi làm việc muộn so với giờ quy định hoặc về trước giờ kết thúc làm việc, được xem là vi phạm nội quy nếu không được sự đồng ý của cấp Quản lý trực tiếp.\n",
      "\u001b[31m ---\n",
      "\u001b[31m \n",
      "Đáp án:\n",
      "- Không được hút thuốc\n",
      "- Không được uống rượu, bia, chất kích thích trong giờ làm việc\n",
      "- Không được bàn tán, cáo buộc sai, cản trở hoạt động vận hành hoặc ngăn cản Người Lao Động khác thực hiện công việc\n",
      "- Không được có hành vi trái đạo đức hoặc không đứng đắn tại n\n"
     ]
    }
   ],
   "source": [
    "qa(\"trong suốt thời gian làm việc và trong phạm vi nơi làm việc, người lao động không được thực hiện các hành vi nào?\")"
   ]
  },
  {
   "cell_type": "code",
   "execution_count": 28,
   "metadata": {},
   "outputs": [
    {
     "name": "stdout",
     "output_type": "stream",
     "text": [
      ". Nếu thực sự có hoặc có thể có xung đột lợi ích, Người Lao Động nên đưa vấn đề lên người quản lý trực tiếp của người lao động hoặc Người đứng đầu bộ phận Tuân thủ hoặc người đại diện được ủy quyền hợp pháp của Người Sử Dụng Lao Động để giải thích và giải quyết. Trong suốt thời hạn làm việc của mình, Người Lao Động phải đối xử một cách trung thực, công bằng và tôn trọng với Người Sử Dụng Lao Động, người lao động khác, các khách hàng, nhà cung cấp dịch vụ, nhà cung cấp, đối thủ cạnh tranh của Người Sử Dụng Lao Động và những người khác mà Người Sử Dụng Lao Động có quan hệ kinh doanh với họ\n",
      ". Đối với Người Lao Động mới: Cần được các cấp Quản lý/ Lãnh đạo giới thiệu với các Người Lao Động khác trong ngày nhận việc, quan tâm giúp đỡ, hướng dẫn để họ nắm bắt các quy chế, quy định, chính sách của Công ty và sớm thích nghi với công việc, hòa nhập với môi trường làm việc tại Công ty.\n",
      "Khi phát hiện Người Lao Động có hành vi vi phạm kỷ luật lao động tại thời điểm xảy ra hành vi vi phạm, cấp quản lý trực tiếp của Người Lao Động tiến hành lập biên bản vi phạm, đồng thời yêu cầu Người Lao Động thực hiện bản tường trình theo quy định tại Điều 21.3 của nội quy này và thông báo đến Bộ phận nhân sự công ty và Ban chấp hành công đoàn cơ sở mà Người Lao Động là thành viên, người đại diện theo pháp luật của người lao động chưa đủ 15 tuổi\n",
      "\u001b[31m ---\n",
      "\u001b[31m \n",
      "Đáp án:\n",
      "- Cấp quản lý cao hơn cần được giới thiệu với các người lao động mới, quan tâm giúp đỡ, hướng dẫn để họ nắm bắt các quy chế, quy định, chính sách của công ty.\n",
      "- Cấp quản lý cao hơn cần đối xử một cách trung thực, công bằng và tôn trọng với người sử dụ\n"
     ]
    }
   ],
   "source": [
    "qa(\"thái độ đối với cấp quản lý cao hơn của người lao động phải như thế nào?\")"
   ]
  },
  {
   "cell_type": "markdown",
   "metadata": {},
   "source": [
    "# filter metadata"
   ]
  },
  {
   "cell_type": "code",
   "execution_count": 29,
   "metadata": {},
   "outputs": [
    {
     "data": {
      "text/plain": [
       "[(Document(page_content='. Nếu thực sự có hoặc có thể có xung đột lợi ích, Người Lao Động nên đưa vấn đề lên người quản lý trực tiếp của người lao động hoặc Người đứng đầu bộ phận Tuân thủ hoặc người đại diện được ủy quyền hợp pháp của Người Sử Dụng Lao Động để giải thích và giải quyết. Trong suốt thời hạn làm việc của mình, Người Lao Động phải đối xử một cách trung thực, công bằng và tôn trọng với Người Sử Dụng Lao Động, người lao động khác, các khách hàng, nhà cung cấp dịch vụ, nhà cung cấp, đối thủ cạnh tranh của Người Sử Dụng Lao Động và những người khác mà Người Sử Dụng Lao Động có quan hệ kinh doanh với họ', metadata={'document': 'HR.03.V3.2023. Nội quy Lao động', 'heading 1': 'CHƯƠNG II:  QUY ĐỊNH VỀ TRẬT TỰ NƠI LÀM VIỆC VÀ ĐẠO ĐỨC KINH DOANH TRONG DOANH NGHIỆP', 'heading 2': 'Điều 9: Ứng xử của Người Lao Động', 'heading 3': ''}),\n",
       "  0.876327395),\n",
       " (Document(page_content='. Đối với Người Lao Động mới: Cần được các cấp Quản lý/ Lãnh đạo giới thiệu với các Người Lao Động khác trong ngày nhận việc, quan tâm giúp đỡ, hướng dẫn để họ nắm bắt các quy chế, quy định, chính sách của Công ty và sớm thích nghi với công việc, hòa nhập với môi trường làm việc tại Công ty.', metadata={'document': 'HR.03.V3.2023. Nội quy Lao động', 'heading 1': 'CHƯƠNG II:  QUY ĐỊNH VỀ TRẬT TỰ NƠI LÀM VIỆC VÀ ĐẠO ĐỨC KINH DOANH TRONG DOANH NGHIỆP', 'heading 2': 'Điều 8: Quy Định Về Thái Độ, Hành Vi Của Người Lao Động', 'heading 3': 'Với đồng nghiệp'}),\n",
       "  0.869660318),\n",
       " (Document(page_content='Khi phát hiện Người Lao Động có hành vi vi phạm kỷ luật lao động tại thời điểm xảy ra hành vi vi phạm, cấp quản lý trực tiếp của Người Lao Động tiến hành lập biên bản vi phạm, đồng thời yêu cầu Người Lao Động thực hiện bản tường trình theo quy định tại Điều 21.3 của nội quy này và thông báo đến Bộ phận nhân sự công ty và Ban chấp hành công đoàn cơ sở mà Người Lao Động là thành viên, người đại diện theo pháp luật của người lao động chưa đủ 15 tuổi', metadata={'document': 'HR.03.V3.2023. Nội quy Lao động', 'heading 1': 'CHƯƠNG VII: VI PHẠM KỶ LUẬT LAO ĐỘNG, HÌNH THỨC XỬ LÝ KỶ LUẬT VÀ TRÁCH NHIỆM VỀ VẬT CHẤT', 'heading 2': 'Điều 30: Thủ Tục Tiến Hành Kỷ Luật Lao Động', 'heading 3': ''}),\n",
       "  0.861544728)]"
      ]
     },
     "execution_count": 29,
     "metadata": {},
     "output_type": "execute_result"
    }
   ],
   "source": [
    "query=\"thái độ đối với cấp quản lý cao hơn của người lao động phải như thế nào?\"\n",
    "docsearch.similarity_search_with_score(query=query, k=3) # FAISS is faster"
   ]
  },
  {
   "cell_type": "code",
   "execution_count": null,
   "metadata": {},
   "outputs": [],
   "source": [
    "\"\"\"\n",
    "$eq - Equal to (number, string, boolean)\n",
    "$ne - Not equal to (number, string, boolean)\n",
    "$gt - Greater than (number)\n",
    "$gte - Greater than or equal to (number)\n",
    "$lt - Less than (number)\n",
    "$lte - Less than or equal to (number)\n",
    "$in - In array (string or number)\n",
    "$nin - Not in array (string or number)\n",
    "\"\"\""
   ]
  },
  {
   "cell_type": "code",
   "execution_count": 34,
   "metadata": {},
   "outputs": [
    {
     "data": {
      "text/plain": [
       "[Document(page_content='. Nếu thực sự có hoặc có thể có xung đột lợi ích, Người Lao Động nên đưa vấn đề lên người quản lý trực tiếp của người lao động hoặc Người đứng đầu bộ phận Tuân thủ hoặc người đại diện được ủy quyền hợp pháp của Người Sử Dụng Lao Động để giải thích và giải quyết. Trong suốt thời hạn làm việc của mình, Người Lao Động phải đối xử một cách trung thực, công bằng và tôn trọng với Người Sử Dụng Lao Động, người lao động khác, các khách hàng, nhà cung cấp dịch vụ, nhà cung cấp, đối thủ cạnh tranh của Người Sử Dụng Lao Động và những người khác mà Người Sử Dụng Lao Động có quan hệ kinh doanh với họ', metadata={'document': 'HR.03.V3.2023. Nội quy Lao động', 'heading 1': 'CHƯƠNG II:  QUY ĐỊNH VỀ TRẬT TỰ NƠI LÀM VIỆC VÀ ĐẠO ĐỨC KINH DOANH TRONG DOANH NGHIỆP', 'heading 2': 'Điều 9: Ứng xử của Người Lao Động', 'heading 3': ''}),\n",
       " Document(page_content='Trong suốt thời hạn làm việc của mình, Người lao động phải tuân thủ các quy định về phòng chống hối lộ và tham nhũng theo Chính sách Tuân thủ chống Hối lộ và Tham nhũng hiện hành của Công ty. Trong suốt thời hạn làm việc của mình, Người Lao Động phải hành động vì lợi ích tốt nhất của Người Sử Dụng Lao Động và tránh các tình huống trong đó lợi ích cá nhân xung đột, hoặc có khả năng xung đột với lợi ích của Người Sử Dụng Lao Động. Người Lao Động có nghĩa vụ phải đảm bảo không có bất kỳ xung đột lợi ích nào với các lợi ích của Người Sử Dụng Lao Động', metadata={'document': 'HR.03.V3.2023. Nội quy Lao động', 'heading 1': 'CHƯƠNG II:  QUY ĐỊNH VỀ TRẬT TỰ NƠI LÀM VIỆC VÀ ĐẠO ĐỨC KINH DOANH TRONG DOANH NGHIỆP', 'heading 2': 'Điều 9: Ứng xử của Người Lao Động', 'heading 3': ''}),\n",
       " Document(page_content='. Trong suốt thời hạn làm việc của mình, Người Lao Động được yêu cầu hành xử theo cách thức phù hợp với nơi làm việc và giữ cho môi trường làm việc không có bạo lực và quấy rối', metadata={'document': 'HR.03.V3.2023. Nội quy Lao động', 'heading 1': 'CHƯƠNG II:  QUY ĐỊNH VỀ TRẬT TỰ NƠI LÀM VIỆC VÀ ĐẠO ĐỨC KINH DOANH TRONG DOANH NGHIỆP', 'heading 2': 'Điều 9: Ứng xử của Người Lao Động', 'heading 3': ''}),\n",
       " Document(page_content='. Trong suốt thời hạn làm việc của mình, Người Lao Động có trách nhiệm phải biết và thực hiện các nhiệm vụ công việc của mình', metadata={'document': 'HR.03.V3.2023. Nội quy Lao động', 'heading 1': 'CHƯƠNG II:  QUY ĐỊNH VỀ TRẬT TỰ NƠI LÀM VIỆC VÀ ĐẠO ĐỨC KINH DOANH TRONG DOANH NGHIỆP', 'heading 2': 'Điều 9: Ứng xử của Người Lao Động', 'heading 3': ''})]"
      ]
     },
     "execution_count": 34,
     "metadata": {},
     "output_type": "execute_result"
    }
   ],
   "source": [
    "docsearch.similarity_search(query=query, filter={\n",
    "    'heading 2':'Điều 9: Ứng xử của Người Lao Động'\n",
    "    }\n",
    ") # this works"
   ]
  },
  {
   "cell_type": "code",
   "execution_count": null,
   "metadata": {},
   "outputs": [],
   "source": []
  }
 ],
 "metadata": {
  "kernelspec": {
   "display_name": "inno23",
   "language": "python",
   "name": "python3"
  },
  "language_info": {
   "codemirror_mode": {
    "name": "ipython",
    "version": 3
   },
   "file_extension": ".py",
   "mimetype": "text/x-python",
   "name": "python",
   "nbconvert_exporter": "python",
   "pygments_lexer": "ipython3",
   "version": "3.11.5"
  }
 },
 "nbformat": 4,
 "nbformat_minor": 2
}
